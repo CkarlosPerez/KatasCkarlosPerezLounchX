{
 "cells": [
  {
   "cell_type": "code",
   "execution_count": 1,
   "metadata": {},
   "outputs": [
    {
     "name": "stdout",
     "output_type": "stream",
     "text": [
      "Un asteroide se acerca demasiado rapido a la tierra\n"
     ]
    }
   ],
   "source": [
    "# Añadir el código necesario para crear una variable que guarde la velocidad del asteroide.\n",
    "velocidad = 49\n",
    "# Escribe una expresión de prueba para calcular si necesita una advertencia.\n",
    "if velocidad>25:\n",
    "# Agregue las instrucciones que se ejecutarán si la expresión de prueba es true o false.\n",
    "    print(\"Un asteroide se acerca demasiado rapido a la tierra\")\n",
    "else:\n",
    "    print(\"No hay eligro de asteriode\")"
   ]
  },
  {
   "cell_type": "code",
   "execution_count": 2,
   "metadata": {},
   "outputs": [
    {
     "name": "stdout",
     "output_type": "stream",
     "text": [
      "No se puede observar el astoride en el cielo\n"
     ]
    }
   ],
   "source": [
    "# Agrega el código para crear una variable para un asteroide que viaja a 19 km/s\n",
    "velocidad=19\n",
    "# Escribe varias expresiones de prueba para determinar si puedes ver el rayo de luz desde la tierra\n",
    "if velocidad>20:\n",
    "# Agrega las instrucciones que se ejecutarán si las expresiones de prueba son True o False\n",
    "    print(\"Buscar el asteroide en el cielo\")\n",
    "elif velocidad==20:\n",
    "    print(\"Buscar el asteroide en el cielo\")\n",
    "else:\n",
    "    print(\"No se puede observar el astoride en el cielo\")"
   ]
  },
  {
   "cell_type": "code",
   "execution_count": 9,
   "metadata": {},
   "outputs": [
    {
     "name": "stdout",
     "output_type": "stream",
     "text": [
      "Buscar el asteroide en el cielo\n"
     ]
    }
   ],
   "source": [
    "# Agrega el código para crear nuevas variables para la velocidad y el tamaño del asteroide\n",
    "velocidad = 26\n",
    "dimension = 25\n",
    "# Para probar el código, prueba con varias velocidades y tamaños\n",
    "\n",
    "# Escribe varias expresiones de prueba o combinaciones de expresiones de prueba para determinar qué mensaje se debe enviar a Tierra.\n",
    "if dimension>25 and velocidad>25:\n",
    "    print(\"El asteroide causara mucho daño e la tierra\")\n",
    "elif velocidad>=20:\n",
    "    print(\"Buscar el asteroide en el cielo\")\n",
    "elif dimension<25:\n",
    "    print(\"Sin peligro\")\n",
    "else:\n",
    "    print(\"Sin peligro\") "
   ]
  }
 ],
 "metadata": {
  "interpreter": {
   "hash": "d1bbd9ec30e998b63c8451b9687b48320ddbad53b6f490f78d806b23b6dcf730"
  },
  "kernelspec": {
   "display_name": "Python 3.10.2 64-bit",
   "language": "python",
   "name": "python3"
  },
  "language_info": {
   "codemirror_mode": {
    "name": "ipython",
    "version": 3
   },
   "file_extension": ".py",
   "mimetype": "text/x-python",
   "name": "python",
   "nbconvert_exporter": "python",
   "pygments_lexer": "ipython3",
   "version": "3.10.2"
  },
  "orig_nbformat": 4
 },
 "nbformat": 4,
 "nbformat_minor": 2
}
