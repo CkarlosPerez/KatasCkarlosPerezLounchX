{
 "cells": [
  {
   "cell_type": "code",
   "execution_count": 6,
   "metadata": {},
   "outputs": [
    {
     "name": "stdout",
     "output_type": "stream",
     "text": [
      "628949330\n",
      "390577534\n"
     ]
    }
   ],
   "source": [
    "# Crear variables para almacenar las dos distancias\n",
    "# ¡Asegúrate de quitar las comas!\n",
    "from math import ceil\n",
    "\n",
    "Tierra = 149597870\n",
    "Jupiter = 778547200\n",
    "\n",
    "Distancia = abs(Jupiter - Tierra)\n",
    "Millas = ceil(Distancia * 0.621)\n",
    "print(Distancia)\n",
    "print(Millas)"
   ]
  },
  {
   "cell_type": "code",
   "execution_count": 12,
   "metadata": {},
   "outputs": [
    {
     "name": "stdout",
     "output_type": "stream",
     "text": [
      "32000\n",
      "19872\n"
     ]
    }
   ],
   "source": [
    "# Almacenar las entradas del usuario\n",
    "#Pista: variable = input(\"¿Cuál es tu nombre?\")\n",
    "from math import ceil\n",
    "\n",
    "planeta1 = input('distancia en KM del sol para al Planeta 1?')\n",
    "planeta2 = input('distancia en KM del sol para al Planeta 2?')\n",
    "\n",
    "# Convierte las cadenas de ambos planetas a números enteros\n",
    "Distancia1 = int(planeta1)\n",
    "Distancia2 = int(planeta2)\n",
    "\n",
    "# Realizar el cálculo y determinar el valor absoluto\n",
    "Resultado = abs(Distancia1-Distancia2)\n",
    "print(Resultado)\n",
    "\n",
    "# Convertir de KM a Millas\n",
    "millas = ceil(Resultado * 0.621)\n",
    "print(millas)"
   ]
  }
 ],
 "metadata": {
  "interpreter": {
   "hash": "d1bbd9ec30e998b63c8451b9687b48320ddbad53b6f490f78d806b23b6dcf730"
  },
  "kernelspec": {
   "display_name": "Python 3.10.2 64-bit",
   "language": "python",
   "name": "python3"
  },
  "language_info": {
   "codemirror_mode": {
    "name": "ipython",
    "version": 3
   },
   "file_extension": ".py",
   "mimetype": "text/x-python",
   "name": "python",
   "nbconvert_exporter": "python",
   "pygments_lexer": "ipython3",
   "version": "3.10.2"
  },
  "orig_nbformat": 4
 },
 "nbformat": 4,
 "nbformat_minor": 2
}
